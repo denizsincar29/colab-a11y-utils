{
  "nbformat": 4,
  "nbformat_minor": 0,
  "metadata": {
    "colab": {
      "name": "colab-a11y-util-example.ipynb",
      "provenance": [],
      "collapsed_sections": []
    },
    "kernelspec": {
      "name": "python3",
      "display_name": "Python 3"
    },
    "widgets": {
      "application/vnd.jupyter.widget-state+json": {
        "85e5d8cdaa6f49518a7bd436108afc02": {
          "model_module": "@jupyter-widgets/controls",
          "model_name": "HBoxModel",
          "state": {
            "_view_name": "HBoxView",
            "_dom_classes": [],
            "_model_name": "HBoxModel",
            "_view_module": "@jupyter-widgets/controls",
            "_model_module_version": "1.5.0",
            "_view_count": null,
            "_view_module_version": "1.5.0",
            "box_style": "",
            "layout": "IPY_MODEL_0c24ed5dd7084ce8b9df8c132c0d6042",
            "_model_module": "@jupyter-widgets/controls",
            "children": [
              "IPY_MODEL_f3e248fe827742ee838a42765ea5ffbc",
              "IPY_MODEL_e8c82dfb300148c1b11ea1066e9a713c"
            ]
          }
        },
        "0c24ed5dd7084ce8b9df8c132c0d6042": {
          "model_module": "@jupyter-widgets/base",
          "model_name": "LayoutModel",
          "state": {
            "_view_name": "LayoutView",
            "grid_template_rows": null,
            "right": null,
            "justify_content": null,
            "_view_module": "@jupyter-widgets/base",
            "overflow": null,
            "_model_module_version": "1.2.0",
            "_view_count": null,
            "flex_flow": null,
            "width": null,
            "min_width": null,
            "border": null,
            "align_items": null,
            "bottom": null,
            "_model_module": "@jupyter-widgets/base",
            "top": null,
            "grid_column": null,
            "overflow_y": null,
            "overflow_x": null,
            "grid_auto_flow": null,
            "grid_area": null,
            "grid_template_columns": null,
            "flex": null,
            "_model_name": "LayoutModel",
            "justify_items": null,
            "grid_row": null,
            "max_height": null,
            "align_content": null,
            "visibility": null,
            "align_self": null,
            "height": null,
            "min_height": null,
            "padding": null,
            "grid_auto_rows": null,
            "grid_gap": null,
            "max_width": null,
            "order": null,
            "_view_module_version": "1.2.0",
            "grid_template_areas": null,
            "object_position": null,
            "object_fit": null,
            "grid_auto_columns": null,
            "margin": null,
            "display": null,
            "left": null
          }
        },
        "f3e248fe827742ee838a42765ea5ffbc": {
          "model_module": "@jupyter-widgets/controls",
          "model_name": "FloatProgressModel",
          "state": {
            "_view_name": "ProgressView",
            "style": "IPY_MODEL_d23f4cdba3fa4865ba282c9a58aa1eed",
            "_dom_classes": [],
            "description": "100%",
            "_model_name": "FloatProgressModel",
            "bar_style": "success",
            "max": 10,
            "_view_module": "@jupyter-widgets/controls",
            "_model_module_version": "1.5.0",
            "value": 10,
            "_view_count": null,
            "_view_module_version": "1.5.0",
            "orientation": "horizontal",
            "min": 0,
            "description_tooltip": null,
            "_model_module": "@jupyter-widgets/controls",
            "layout": "IPY_MODEL_b37611c4d41249d19fd290ccc38e0b69"
          }
        },
        "e8c82dfb300148c1b11ea1066e9a713c": {
          "model_module": "@jupyter-widgets/controls",
          "model_name": "HTMLModel",
          "state": {
            "_view_name": "HTMLView",
            "style": "IPY_MODEL_7519d9d8bd0b4c299a32569cf061bc84",
            "_dom_classes": [],
            "description": "",
            "_model_name": "HTMLModel",
            "placeholder": "​",
            "_view_module": "@jupyter-widgets/controls",
            "_model_module_version": "1.5.0",
            "value": " 10/10 [00:11&lt;00:00,  1.11s/it]",
            "_view_count": null,
            "_view_module_version": "1.5.0",
            "description_tooltip": null,
            "_model_module": "@jupyter-widgets/controls",
            "layout": "IPY_MODEL_ef14f7fb647e4dbdbfa2cf71cf451aa4"
          }
        },
        "d23f4cdba3fa4865ba282c9a58aa1eed": {
          "model_module": "@jupyter-widgets/controls",
          "model_name": "ProgressStyleModel",
          "state": {
            "_view_name": "StyleView",
            "_model_name": "ProgressStyleModel",
            "description_width": "initial",
            "_view_module": "@jupyter-widgets/base",
            "_model_module_version": "1.5.0",
            "_view_count": null,
            "_view_module_version": "1.2.0",
            "bar_color": null,
            "_model_module": "@jupyter-widgets/controls"
          }
        },
        "b37611c4d41249d19fd290ccc38e0b69": {
          "model_module": "@jupyter-widgets/base",
          "model_name": "LayoutModel",
          "state": {
            "_view_name": "LayoutView",
            "grid_template_rows": null,
            "right": null,
            "justify_content": null,
            "_view_module": "@jupyter-widgets/base",
            "overflow": null,
            "_model_module_version": "1.2.0",
            "_view_count": null,
            "flex_flow": null,
            "width": null,
            "min_width": null,
            "border": null,
            "align_items": null,
            "bottom": null,
            "_model_module": "@jupyter-widgets/base",
            "top": null,
            "grid_column": null,
            "overflow_y": null,
            "overflow_x": null,
            "grid_auto_flow": null,
            "grid_area": null,
            "grid_template_columns": null,
            "flex": null,
            "_model_name": "LayoutModel",
            "justify_items": null,
            "grid_row": null,
            "max_height": null,
            "align_content": null,
            "visibility": null,
            "align_self": null,
            "height": null,
            "min_height": null,
            "padding": null,
            "grid_auto_rows": null,
            "grid_gap": null,
            "max_width": null,
            "order": null,
            "_view_module_version": "1.2.0",
            "grid_template_areas": null,
            "object_position": null,
            "object_fit": null,
            "grid_auto_columns": null,
            "margin": null,
            "display": null,
            "left": null
          }
        },
        "7519d9d8bd0b4c299a32569cf061bc84": {
          "model_module": "@jupyter-widgets/controls",
          "model_name": "DescriptionStyleModel",
          "state": {
            "_view_name": "StyleView",
            "_model_name": "DescriptionStyleModel",
            "description_width": "",
            "_view_module": "@jupyter-widgets/base",
            "_model_module_version": "1.5.0",
            "_view_count": null,
            "_view_module_version": "1.2.0",
            "_model_module": "@jupyter-widgets/controls"
          }
        },
        "ef14f7fb647e4dbdbfa2cf71cf451aa4": {
          "model_module": "@jupyter-widgets/base",
          "model_name": "LayoutModel",
          "state": {
            "_view_name": "LayoutView",
            "grid_template_rows": null,
            "right": null,
            "justify_content": null,
            "_view_module": "@jupyter-widgets/base",
            "overflow": null,
            "_model_module_version": "1.2.0",
            "_view_count": null,
            "flex_flow": null,
            "width": null,
            "min_width": null,
            "border": null,
            "align_items": null,
            "bottom": null,
            "_model_module": "@jupyter-widgets/base",
            "top": null,
            "grid_column": null,
            "overflow_y": null,
            "overflow_x": null,
            "grid_auto_flow": null,
            "grid_area": null,
            "grid_template_columns": null,
            "flex": null,
            "_model_name": "LayoutModel",
            "justify_items": null,
            "grid_row": null,
            "max_height": null,
            "align_content": null,
            "visibility": null,
            "align_self": null,
            "height": null,
            "min_height": null,
            "padding": null,
            "grid_auto_rows": null,
            "grid_gap": null,
            "max_width": null,
            "order": null,
            "_view_module_version": "1.2.0",
            "grid_template_areas": null,
            "object_position": null,
            "object_fit": null,
            "grid_auto_columns": null,
            "margin": null,
            "display": null,
            "left": null
          }
        }
      }
    }
  },
  "cells": [
    {
      "cell_type": "markdown",
      "metadata": {
        "id": "JcjOrJxIo5vp"
      },
      "source": [
        "# colab-a11y-util\n",
        "\n",
        "This library provides the following functions in Google Colab\n",
        "- Notification by sound at the time of cell execution\n",
        "  - One beep sound when executed\n",
        "  - Two beep sounds when normal completion\n",
        "  - Two buzzer sounds when abnormal completion\n",
        "- Sound notification of progress bar by tqdm\n",
        "- Simple audio output function that can be used instead of print\n"
      ]
    },
    {
      "cell_type": "markdown",
      "metadata": {
        "id": "FmWA1KWLlOqZ"
      },
      "source": [
        "# Install"
      ]
    },
    {
      "cell_type": "code",
      "metadata": {
        "colab": {
          "base_uri": "https://localhost:8080/"
        },
        "id": "3dy25kcpfTg5",
        "outputId": "63db00a2-2e65-4640-bb6c-478114b8e7a6"
      },
      "source": [
        "# latest\n",
        "#!pip install git+https://github.com/hassaku/colab-a11y-utils.git\n",
        "\n",
        "# stable\n",
        "!pip install colab-a11y-utils"
      ],
      "execution_count": 1,
      "outputs": [
        {
          "output_type": "stream",
          "text": [
            "Requirement already satisfied: colab-a11y-utils in /usr/local/lib/python3.6/dist-packages (0.0.3)\n",
            "Requirement already satisfied: pydub in /usr/local/lib/python3.6/dist-packages (from colab-a11y-utils) (0.24.1)\n",
            "Requirement already satisfied: tqdm in /usr/local/lib/python3.6/dist-packages (from colab-a11y-utils) (4.41.1)\n",
            "Requirement already satisfied: ipython in /usr/local/lib/python3.6/dist-packages (from colab-a11y-utils) (5.5.0)\n",
            "Requirement already satisfied: pygments in /usr/local/lib/python3.6/dist-packages (from ipython->colab-a11y-utils) (2.6.1)\n",
            "Requirement already satisfied: pickleshare in /usr/local/lib/python3.6/dist-packages (from ipython->colab-a11y-utils) (0.7.5)\n",
            "Requirement already satisfied: decorator in /usr/local/lib/python3.6/dist-packages (from ipython->colab-a11y-utils) (4.4.2)\n",
            "Requirement already satisfied: pexpect; sys_platform != \"win32\" in /usr/local/lib/python3.6/dist-packages (from ipython->colab-a11y-utils) (4.8.0)\n",
            "Requirement already satisfied: setuptools>=18.5 in /usr/local/lib/python3.6/dist-packages (from ipython->colab-a11y-utils) (51.0.0)\n",
            "Requirement already satisfied: traitlets>=4.2 in /usr/local/lib/python3.6/dist-packages (from ipython->colab-a11y-utils) (4.3.3)\n",
            "Requirement already satisfied: simplegeneric>0.8 in /usr/local/lib/python3.6/dist-packages (from ipython->colab-a11y-utils) (0.8.1)\n",
            "Requirement already satisfied: prompt-toolkit<2.0.0,>=1.0.4 in /usr/local/lib/python3.6/dist-packages (from ipython->colab-a11y-utils) (1.0.18)\n",
            "Requirement already satisfied: ptyprocess>=0.5 in /usr/local/lib/python3.6/dist-packages (from pexpect; sys_platform != \"win32\"->ipython->colab-a11y-utils) (0.6.0)\n",
            "Requirement already satisfied: six in /usr/local/lib/python3.6/dist-packages (from traitlets>=4.2->ipython->colab-a11y-utils) (1.15.0)\n",
            "Requirement already satisfied: ipython-genutils in /usr/local/lib/python3.6/dist-packages (from traitlets>=4.2->ipython->colab-a11y-utils) (0.2.0)\n",
            "Requirement already satisfied: wcwidth in /usr/local/lib/python3.6/dist-packages (from prompt-toolkit<2.0.0,>=1.0.4->ipython->colab-a11y-utils) (0.2.5)\n"
          ],
          "name": "stdout"
        }
      ]
    },
    {
      "cell_type": "markdown",
      "metadata": {
        "id": "1rdqQCaflcRZ"
      },
      "source": [
        "# Enable sound notification when cells are executed"
      ]
    },
    {
      "cell_type": "code",
      "metadata": {
        "colab": {
          "base_uri": "https://localhost:8080/",
          "height": 17
        },
        "id": "QEy93iWDfaAa",
        "outputId": "c7ad9aa5-703b-4133-a5c8-df6282a7ef71"
      },
      "source": [
        "from colab_a11y_utils import set_sound_notifications\n",
        "set_sound_notifications()"
      ],
      "execution_count": 2,
      "outputs": [
        {
          "output_type": "display_data",
          "data": {
            "text/html": [
              "<div style=\"display:none\">\n",
              "                <audio onended=\"this.parentNode.removeChild(this)\" controls=\"controls\" autoplay=\"autoplay\">\n",
              "                    <source src=\"data:audio/wav;base64,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\" type=\"audio/wav\" />\n",
              "                    Your browser does not support the audio element.\n",
              "                </audio>\n",
              "              </div>"
            ],
            "text/plain": [
              "<colab_a11y_utils.InvisibleAudio object>"
            ]
          },
          "metadata": {
            "tags": []
          }
        }
      ]
    },
    {
      "cell_type": "code",
      "metadata": {
        "colab": {
          "base_uri": "https://localhost:8080/",
          "height": 51
        },
        "id": "J7FHt20JffsX",
        "outputId": "d71bfa9e-c202-4f4c-9e1a-ec865a232204"
      },
      "source": [
        "import time\n",
        "print(\"start\")\n",
        "time.sleep(3)\n",
        "print(\"finish\")"
      ],
      "execution_count": 3,
      "outputs": [
        {
          "output_type": "display_data",
          "data": {
            "text/html": [
              "<div style=\"display:none\">\n",
              "                <audio onended=\"this.parentNode.removeChild(this)\" controls=\"controls\" autoplay=\"autoplay\">\n",
              "                    <source src=\"data:audio/wav;base64,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\" type=\"audio/wav\" />\n",
              "                    Your browser does not support the audio element.\n",
              "                </audio>\n",
              "              </div>"
            ],
            "text/plain": [
              "<colab_a11y_utils.InvisibleAudio object>"
            ]
          },
          "metadata": {
            "tags": []
          }
        },
        {
          "output_type": "stream",
          "text": [
            "start\n",
            "finish\n"
          ],
          "name": "stdout"
        },
        {
          "output_type": "display_data",
          "data": {
            "text/html": [
              "<div style=\"display:none\">\n",
              "                <audio onended=\"this.parentNode.removeChild(this)\" controls=\"controls\" autoplay=\"autoplay\">\n",
              "                    <source src=\"data:audio/wav;base64,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\" type=\"audio/wav\" />\n",
              "                    Your browser does not support the audio element.\n",
              "                </audio>\n",
              "              </div>"
            ],
            "text/plain": [
              "<colab_a11y_utils.InvisibleAudio object>"
            ]
          },
          "metadata": {
            "tags": []
          }
        }
      ]
    },
    {
      "cell_type": "code",
      "metadata": {
        "colab": {
          "base_uri": "https://localhost:8080/",
          "height": 168
        },
        "id": "CeXV3crrfnpu",
        "outputId": "c97ae9c4-57f1-4f3c-d931-2ed1f1212f5d"
      },
      "source": [
        "raise"
      ],
      "execution_count": 4,
      "outputs": [
        {
          "output_type": "display_data",
          "data": {
            "text/html": [
              "<div style=\"display:none\">\n",
              "                <audio onended=\"this.parentNode.removeChild(this)\" controls=\"controls\" autoplay=\"autoplay\">\n",
              "                    <source src=\"data:audio/wav;base64,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\" type=\"audio/wav\" />\n",
              "                    Your browser does not support the audio element.\n",
              "                </audio>\n",
              "              </div>"
            ],
            "text/plain": [
              "<colab_a11y_utils.InvisibleAudio object>"
            ]
          },
          "metadata": {
            "tags": []
          }
        },
        {
          "output_type": "error",
          "ename": "RuntimeError",
          "evalue": "ignored",
          "traceback": [
            "\u001b[0;31m---------------------------------------------------------------------------\u001b[0m",
            "\u001b[0;31mRuntimeError\u001b[0m                              Traceback (most recent call last)",
            "\u001b[0;32m<ipython-input-4-9c9a2cba73bf>\u001b[0m in \u001b[0;36m<module>\u001b[0;34m()\u001b[0m\n\u001b[0;32m----> 1\u001b[0;31m \u001b[0;32mraise\u001b[0m\u001b[0;34m\u001b[0m\u001b[0;34m\u001b[0m\u001b[0m\n\u001b[0m",
            "\u001b[0;31mRuntimeError\u001b[0m: No active exception to reraise"
          ]
        },
        {
          "output_type": "display_data",
          "data": {
            "text/html": [
              "<div style=\"display:none\">\n",
              "                <audio onended=\"this.parentNode.removeChild(this)\" controls=\"controls\" autoplay=\"autoplay\">\n",
              "                    <source src=\"data:audio/wav;base64,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\" type=\"audio/wav\" />\n",
              "                    Your browser does not support the audio element.\n",
              "                </audio>\n",
              "              </div>"
            ],
            "text/plain": [
              "<colab_a11y_utils.InvisibleAudio object>"
            ]
          },
          "metadata": {
            "tags": []
          }
        },
        {
          "output_type": "display_data",
          "data": {
            "text/html": [
              "<div style=\"display:none\">\n",
              "                <audio onended=\"this.parentNode.removeChild(this)\" controls=\"controls\" autoplay=\"autoplay\">\n",
              "                    <source src=\"data:audio/wav;base64,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\" type=\"audio/wav\" />\n",
              "                    Your browser does not support the audio element.\n",
              "                </audio>\n",
              "              </div>"
            ],
            "text/plain": [
              "<colab_a11y_utils.InvisibleAudio object>"
            ]
          },
          "metadata": {
            "tags": []
          }
        }
      ]
    },
    {
      "cell_type": "markdown",
      "metadata": {
        "id": "021Jdm2npMLf"
      },
      "source": [
        "# Enable sound report in progress bar"
      ]
    },
    {
      "cell_type": "code",
      "metadata": {
        "colab": {
          "base_uri": "https://localhost:8080/",
          "height": 66,
          "referenced_widgets": [
            "85e5d8cdaa6f49518a7bd436108afc02",
            "0c24ed5dd7084ce8b9df8c132c0d6042",
            "f3e248fe827742ee838a42765ea5ffbc",
            "e8c82dfb300148c1b11ea1066e9a713c",
            "d23f4cdba3fa4865ba282c9a58aa1eed",
            "b37611c4d41249d19fd290ccc38e0b69",
            "7519d9d8bd0b4c299a32569cf061bc84",
            "ef14f7fb647e4dbdbfa2cf71cf451aa4"
          ]
        },
        "id": "pbflm94fgH_H",
        "outputId": "f93d106d-14c0-4a01-fff8-cafb93c1cf63"
      },
      "source": [
        "from colab_a11y_utils import tqdm\n",
        "\n",
        "for _ in tqdm(range(10)):\n",
        "    time.sleep(1)"
      ],
      "execution_count": 5,
      "outputs": [
        {
          "output_type": "display_data",
          "data": {
            "text/html": [
              "<div style=\"display:none\">\n",
              "                <audio onended=\"this.parentNode.removeChild(this)\" controls=\"controls\" autoplay=\"autoplay\">\n",
              "                    <source src=\"data:audio/wav;base64,SUQzBAAAAAAAI1RTU0UAAAAPAAADTGF2ZjU3LjgzLjEwMAAAAAAAAAAAAAAA//tAwAAAAAAAAAAAAAAAAAAAAAAASW5mbwAAAA8AAAAHAAAGbAA8PDw8PDw8PDw8PDw8PF1dXV1dXV1dXV1dXV1dfX19fX19fX19fX19fX2enp6enp6enp6enp6enp6+vr6+vr6+vr6+vr6+vt/f39/f39/f39/f39/f//////////////////8AAAAATGF2YzU3LjEwAAAAAAAAAAAAAAAAJANuAAAAAAAABmy59+9/AAAAAAD/+1DEAAAIiFUgbKRQQZ6hZKXNRPBAAFOaXu3kXnKjR5PCrYGzljOInJIphUvMDe5Y9NV7e3uHROQMI1ugAUX5MMdQx3UA/SQ9h/xvlxB9vz/lP/FjnUAPicASAIBAB3WtNZBIEMECE8X7zUonMJgi/tiLju5CYDhwRtznjVBHEt5flhK6aJGKMJMUqkaNK4bgBkGj/rOBa4MBdX5KCAbt+pYfuPav8pjj/8h5bX/qJz/zA9/5c+R9R/0P8V+/1v8ubAjoYLm2bTeOEXXQl+aR//tSxAeADDlpO62xrgFinmYlzcyofh3WrxDdibuLBtPwr3E/QEGBcLXq6lWBOg1O31HQQwHc4v9zwA3giG6ZxDqMwUAF8tXXskCEC2b/Kx5f+OB/+cIP/mf/qPf+db/z//nP/n/lfktDE8gsAHaYawJMkZBBk7ZH0iBdF2msw0zF5e2Lb+GiCK/pLc3mTonQaTElSX+xHAoJNv6w9k13/F8Hmb1dALpGn/LJIf+Xm/5xP/zz/EPwx6z3rd5b7Pu9VVAIEvoAa7vsMecxQgPf9DX/+1LECAALZQ0pLbGugSoKogmcJNjQgFDagkMO/CHC3qAxkKFhYlBFFlfbMcXgNRuPfdZME1CuJ6VW1E3EcKRpW3oDuC8oN/RE9G1/86Sv/kie/5wvf+Xn/6jb5b5L7vWAANq2v6AByGATPPrUE8AcMDlYcIArgfqPOsyl9HuBI2GYImlcwhERGOot8c8Um2VgdW4iEgKV4NEn6iR7oZ9ruz//1kv//GdLf0JMQU1FMy4xMDCqqqqqqqqqqqqqqqqqqqqqqqqqqqqqqqqqqqqqqv/7UsQTA8AAAaQAAAAgAAA0gAAABKqqqqqqqqqqqqqqqqqqqqqqqqqqqqqqqqqqqqqqqqqqqqqqqqqqqqqqqqqqqqqqqqqqqqqqTEFNRTMuMTAwqqqqqqqqqqqqqqqqqqqqqqqqqqqqqqqqqqqqqqqqqqqqqqqqqqqqqqqqqqqqqqqqqqqqqqqqqqqqqqqqqqqqqqqqqqqqqqqqqqqqqqqqqqqqqqqqqqqqqqqqqqqqqqqqqqqqqqqqqqqqqqqqqqqqqqqqqqqqqqqqqqqqqqqq//tSxHEDwAABpAAAACAAADSAAAAEqqqqqqqqqqqqqqqqqqqqqqqqqqqqqqqqqqqqqqqqqqqqqqqqqqqqqqqqqqqqqqqqqqqqqqpMQU1FMy4xMDCqqqqqqqqqqqqqqqqqqqqqqqqqqqqqqqqqqqqqqqqqqqqqqqqqqqqqqqqqqqqqqqqqqqqqqqqqqqqqqqqqqqqqqqqqqqqqqqqqqqqqqqqqqqqqqqqqqqqqqqqqqqqqqqqqqqqqqqqqqqqqqqqqqqqqqqqqqqqqqqqqqqqqqqr/+1LEoYPAAAGkAAAAIAAANIAAAASqqqqqqqqqqqqqqqqqqqqqqqqqqqqqqqqqqqqqqqqqqqqqqqqqqqqqqqqqqqqqqqqqqqqqqqqqqqqqqqqqqqqqqqqqqqqqqqqqqqqqqqqqqqqqqqqqqqqqqqqqqqqqqqqqqqqqqqqqqqqqqqqqqqqqqqqqqqqqqqqqqqqqqqqqqqqqqqqqqqqqqqqqqqqqqqqqqqqqqqqqqqqqqqqqqqqqqqqqqqqqqqqqqqqqqqqqqqqqqqqqqqqqqqqqqv/7UsShg8AAAaQAAAAgAAA0gAAABKqqqqqqqqqqqqqqqqqqqqqqqqqqqqqqqqqqqqqqqqqqqqqqqqqqqqqqqqqqqqqqqqqqqqqqqqqqqqqqqqqqqqqqqqqqqqqqqqqqqqqqqqqqqqqqqqqqqqqqqqqqqqqqqqqqqqqqqqqqqqqqqqqqqqqqqqqqqqqqqqqqqqqqqqqqqqqqqqqqqqqqqqqqqqqqqqqqqqqqqqqqqqqqqqqqqqqqqqqqqqqqqqqqqqqqqqqqqqqqqqqqqqqqqqqq\" type=\"audio/wav\" />\n",
              "                    Your browser does not support the audio element.\n",
              "                </audio>\n",
              "              </div>"
            ],
            "text/plain": [
              "<colab_a11y_utils.InvisibleAudio object>"
            ]
          },
          "metadata": {
            "tags": []
          }
        },
        {
          "output_type": "display_data",
          "data": {
            "application/vnd.jupyter.widget-view+json": {
              "model_id": "85e5d8cdaa6f49518a7bd436108afc02",
              "version_minor": 0,
              "version_major": 2
            },
            "text/plain": [
              "HBox(children=(FloatProgress(value=0.0, max=10.0), HTML(value='')))"
            ]
          },
          "metadata": {
            "tags": []
          }
        },
        {
          "output_type": "display_data",
          "data": {
            "text/html": [
              "<div style=\"display:none\">\n",
              "                <audio onended=\"this.parentNode.removeChild(this)\" controls=\"controls\" autoplay=\"autoplay\">\n",
              "                    <source src=\"data:audio/wav;base64,SUQzBAAAAAAAI1RTU0UAAAAPAAADTGF2ZjU3LjgzLjEwMAAAAAAAAAAAAAAA//tQAAAAAAAAAAAAAAAAAAAAAAAAAAAAAAAAAAAAAAAAAAAASW5mbwAAAA8AAAAFAAAI+QBFRUVFRUVFRUVFRUVFRUVFRUVFdHR0dHR0dHR0dHR0dHR0dHR0dHSioqKioqKioqKioqKioqKioqKiotHR0dHR0dHR0dHR0dHR0dHR0dHR//////////////////////////8AAAAATGF2YzU3LjEwAAAAAAAAAAAAAAAAJAMGAAAAAAAACPnTlDXxAAAAAAAAAAAAAAAAAAAAAP/7kEQAAAGJB029MEAEAAANIKAAARxaETO52gAAAAA0gwAAAAAgFJuSL19jgQAIAQHQrgAAEEQ8cOFwQcD4ff4P8u/6jhQMd34Pwffl/9SOc/wf//UAABYAA7UB2KBAGAUAAqmFC2LejQ7joTGC7YmagIGCIcnRaVmHQbG+rmGD48GGYCmBwEmG4EBgNkwqqFAYUWS4GJ4gKOwMdFAvHEHQtSIgNcByIApASIBQMOcJ4YngWgCbzdADdjwwBPAACADgYkpkIDALJA08qJFEEBYvNSF6LuXUA1QIDEWawkgNyRzUpDAzB9Z4gBFqWsV8ltqgy4ON5mONrk2Wssjf5ADfH8yXUQ4ktRc6B/WbkoQHk2VtY5CYt74+yo1RR9uh7+stcvtqNvUSGonGzh/p////9F////8sIEemVIjGAMAyYCwGZhBBXmJK9iGJBiAAV4jAZAhEgBDAQADU1fliDKYgXgMDDEAmUABBAAoJE8S5Opnzh8wH2IIgLF8DHYmAkAhAUUQW1FlJF5ywI6AqRgWGpdQf6pkM6BgULDsLRBGS3f/7kkQ0i/Woa8uHeqAAAAANIOAAARQxry0PcofQAAA0gAAABCqNghAgEgyREqt/MikBUBBmSkkl/MTgX1Kx636ougzJsW1f1nRlRMlP/ooCYF03b/c6JOkf/6ZFB5Osv+lGTRL//c4NBaC/9ibLRTYCIQwdAAYBIAZgSAOGDeD6ZUiqpqzhYmiCIYmHhitggAaoBHblCl+GedUy1g84F+9l/6xylLxAwnmjAwyWgE6C2myJwsHVF4lgFCwU2DvPJt+tYGUVz44/dqRmEIoA4OTRrb9I1C6YUCj4Of6oAwab/6kxFBqmZL3/WkHECjGH/VDjjI0/1oDXFxJn/+kIgXSz/0Yokuf61GYtrFr/oi7RMXoAQAKCpFFxTAJAEMCQCUwcwoDLYc4Nc8M4MeIWFRipngUegYDMRf5SFNjhUMy77Cj/PX/3C3LHHMDBYBclGhwBNxA1LUXDU2JoUiBg9IDEUnjFL+goDNtmNBkPSW7sLKBbORJF29VRRBqfFKmRoj/XAwgGaf9xagWJkybX/mQTDFx2X/W4YVMS//2GqHuGJtf/+5JESAP1TWxKq9yh9AAADSAAAAEVra8qj3KHwAAANIAAAAT+oP8NtA+r+qJnKdv7D+Rc4VbfrWM6SZgfUQAAAIEeSEAIlAJGAHguCiYAAihgp2oGFwLcYnLZikJmZAUPCYrCanEHrXt4ZUJl7f7gTeXP/eq8cXmIjwZEGK7IYD7CZnnWVTzmQp4BnkBRGQAvqX+msDLN0zcZP0NZcBMWAcuK6Tt6lymBAqFrY6y639CBhQUv/2WaChwRDi6VP9Sg9oQIU2/1QvsZGF/1JkwGkmLX/UorDCKH/XExli/6kyiJmZI2/XLg9EpoAEAE83hfMDAGGA6AGYPgOxlaqyGrAGUZvH5hUUmMF0YHGiJ8QhtXGHIcj5k3CNYgGR49/95Y2nhBpKNKhlb0NiyxbkVHSipZiSYGKDgtvIg7f2gY9caGA0PZ2Y4EAkBQoXSt/rSEEAoLH2dV/eAABcw/6AiooBRLf6kRN4mJ11f04baidt/cXRDVnv9USMklMv+qLdMf+5GDuUb2/WoXhWc87SJojAAQZMBcEYwEgwzGXbpNqARM//uSRFuL9Q9ryyvcofQAAA0gAAABFUGvKA9yh8AAADSAAAAELgAKAMxavDHoUDAi60QW88dMsYtYawz4GRrfQmew7vWeE27gNAhsMcJdu2GqS4nW5sxDRfBK0Ax2OqR/mxOgZxuKKoe0fVUbhi0A6qSx9X86WATMAsCMXf+iUgMKGJ4x/1JiQgiGmxV/1HQSBi2mB//Y4Fozl7/sL4PE5V/1LD8ZZPf7mIj1ZNf61DWGwgVv+oV6WT3CAAP4yNuixzAgBDEUezdqkzhI3xUwXYNOQAglVjzQLSv9LYZFTRy6hNSY5I73ef+9VZU6MQldsgJafSTU5FABYFmls/9Y1gbiGGZnn/Us6RVBf/QFnESUbf6iyKBLT/+YkVS/+XTX/50c10f/Mi8//2//UXnR/8yNRqhgvkACirAukHQDTG54NwIEDUy/KxmkvQO4tBIhD+PolFVIvct2drhIiKKTVQsaChoGRV1RIChQ18W9ISZ/9Yp/+LM//FFMQU1FMy4xMDBVVVVVVVVVVVVVVVVVVVVVVVVVVVVVVVVVVVVVVVVVVf/7kkR0gvPKY8sruonwAAANIAAAAQjQURJMMMyAAAA0gAAABFVVVVVVVVVVVVVVVVVVVVVVVVVVVVVVVVVVVVVVVVVVVVVVVVVVVVVVVVVVVVVVVVVVVVVVVVVVVVVVVVVVVVVVVVVVVVVVVVVVVVVVVVVVVVVVVVVVVVVVVVVVVVVVVVVVVVVVVVVVVVVVVVVVVVVVVVVVVVVVVVVVVVVVVVVVVVVVVVVVVVVVVVVVVVVVVVVVVVVVVVVVVVVVVVVVVVVVVVVVVVVVVVVVVVVVVVVVVVVVVVVVVVVVVVVVVVVVVVVVVVVVVVVVVVVVVVVVVVVVVVVVVVVVVVVVVVVVVVVVVVVVVVVVVVVVVVVVVVVVVVVVVVVVVVVVVVVVVVVVVVVVVVVVVVVVVVVVVVVVVVVVVVVVVVVVVVVVVVVVVVVVVVVVVVVVVVVVVVVVVVVVVVVVVVVVVVVVVVVVVVVVVVVVVVVVVVVVVVVVVVVVVVVVVVVVVVVVVVVVVVVVVVVVVVVVVVVVVVVVVVVVVVVVVVVVVVVVVVVVVVVVVVVVVVU=\" type=\"audio/wav\" />\n",
              "                    Your browser does not support the audio element.\n",
              "                </audio>\n",
              "              </div>"
            ],
            "text/plain": [
              "<colab_a11y_utils.InvisibleAudio object>"
            ]
          },
          "metadata": {
            "tags": []
          }
        },
        {
          "output_type": "display_data",
          "data": {
            "text/html": [
              "<div style=\"display:none\">\n",
              "                <audio onended=\"this.parentNode.removeChild(this)\" controls=\"controls\" autoplay=\"autoplay\">\n",
              "                    <source src=\"data:audio/wav;base64,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\" type=\"audio/wav\" />\n",
              "                    Your browser does not support the audio element.\n",
              "                </audio>\n",
              "              </div>"
            ],
            "text/plain": [
              "<colab_a11y_utils.InvisibleAudio object>"
            ]
          },
          "metadata": {
            "tags": []
          }
        },
        {
          "output_type": "display_data",
          "data": {
            "text/html": [
              "<div style=\"display:none\">\n",
              "                <audio onended=\"this.parentNode.removeChild(this)\" controls=\"controls\" autoplay=\"autoplay\">\n",
              "                    <source src=\"data:audio/wav;base64,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\" type=\"audio/wav\" />\n",
              "                    Your browser does not support the audio element.\n",
              "                </audio>\n",
              "              </div>"
            ],
            "text/plain": [
              "<colab_a11y_utils.InvisibleAudio object>"
            ]
          },
          "metadata": {
            "tags": []
          }
        },
        {
          "output_type": "display_data",
          "data": {
            "text/html": [
              "<div style=\"display:none\">\n",
              "                <audio onended=\"this.parentNode.removeChild(this)\" controls=\"controls\" autoplay=\"autoplay\">\n",
              "                    <source src=\"data:audio/wav;base64,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\" type=\"audio/wav\" />\n",
              "                    Your browser does not support the audio element.\n",
              "                </audio>\n",
              "              </div>"
            ],
            "text/plain": [
              "<colab_a11y_utils.InvisibleAudio object>"
            ]
          },
          "metadata": {
            "tags": []
          }
        },
        {
          "output_type": "display_data",
          "data": {
            "text/html": [
              "<div style=\"display:none\">\n",
              "                <audio onended=\"this.parentNode.removeChild(this)\" controls=\"controls\" autoplay=\"autoplay\">\n",
              "                    <source src=\"data:audio/wav;base64,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\" type=\"audio/wav\" />\n",
              "                    Your browser does not support the audio element.\n",
              "                </audio>\n",
              "              </div>"
            ],
            "text/plain": [
              "<colab_a11y_utils.InvisibleAudio object>"
            ]
          },
          "metadata": {
            "tags": []
          }
        },
        {
          "output_type": "display_data",
          "data": {
            "text/html": [
              "<div style=\"display:none\">\n",
              "                <audio onended=\"this.parentNode.removeChild(this)\" controls=\"controls\" autoplay=\"autoplay\">\n",
              "                    <source src=\"data:audio/wav;base64,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\" type=\"audio/wav\" />\n",
              "                    Your browser does not support the audio element.\n",
              "                </audio>\n",
              "              </div>"
            ],
            "text/plain": [
              "<colab_a11y_utils.InvisibleAudio object>"
            ]
          },
          "metadata": {
            "tags": []
          }
        },
        {
          "output_type": "display_data",
          "data": {
            "text/html": [
              "<div style=\"display:none\">\n",
              "                <audio onended=\"this.parentNode.removeChild(this)\" controls=\"controls\" autoplay=\"autoplay\">\n",
              "                    <source src=\"data:audio/wav;base64,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\" type=\"audio/wav\" />\n",
              "                    Your browser does not support the audio element.\n",
              "                </audio>\n",
              "              </div>"
            ],
            "text/plain": [
              "<colab_a11y_utils.InvisibleAudio object>"
            ]
          },
          "metadata": {
            "tags": []
          }
        },
        {
          "output_type": "display_data",
          "data": {
            "text/html": [
              "<div style=\"display:none\">\n",
              "                <audio onended=\"this.parentNode.removeChild(this)\" controls=\"controls\" autoplay=\"autoplay\">\n",
              "                    <source src=\"data:audio/wav;base64,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\" type=\"audio/wav\" />\n",
              "                    Your browser does not support the audio element.\n",
              "                </audio>\n",
              "              </div>"
            ],
            "text/plain": [
              "<colab_a11y_utils.InvisibleAudio object>"
            ]
          },
          "metadata": {
            "tags": []
          }
        },
        {
          "output_type": "display_data",
          "data": {
            "text/html": [
              "<div style=\"display:none\">\n",
              "                <audio onended=\"this.parentNode.removeChild(this)\" controls=\"controls\" autoplay=\"autoplay\">\n",
              "                    <source src=\"data:audio/wav;base64,SUQzBAAAAAAAI1RTU0UAAAAPAAADTGF2ZjU3LjgzLjEwMAAAAAAAAAAAAAAA//tQAAAAAAAAAAAAAAAAAAAAAAAAAAAAAAAAAAAAAAAAAAAASW5mbwAAAA8AAAAFAAAI+QBFRUVFRUVFRUVFRUVFRUVFRUVFdHR0dHR0dHR0dHR0dHR0dHR0dHSioqKioqKioqKioqKioqKioqKiotHR0dHR0dHR0dHR0dHR0dHR0dHR//////////////////////////8AAAAATGF2YzU3LjEwAAAAAAAAAAAAAAAAJAMGAAAAAAAACPknlTV2AAAAAAAAAAAAAAAAAAAAAP/7kEQAAAJaIUYVYMAASuQ5J6wYAAzpMV24+QARkiOstx7QAgyA+np6enp+xBWwtgZzmc4COhu/yPBZQtAtQUEOTTu73P2iIw8ABDg4DJ3+2f5///2ggQyyBBB35wHz4gOf8MLP/+UDH+t6nEP/B8AIDCADlenp6en7EFyF3DKUyjAw0f4aR4LYFxGSCgh7u7u4/iIjDwAQcHAZO/2/////7QYhlkCCGflC4PwQ/5Rxf/4If8H//lInD9uIAA412KX//u1locAXtrNERs7+Z/DvR/I/aFXKRe6KS0KiytAm5plMg7zQXFsiuTSa3UTKKdEpDVHy7PAxwMvGqnTCzo5v1DGEh6IZHNdqxNpJ7dN/4+yv+4/jb2//1v/zpX///R0XcAAD7W4E7f6WyySIM+1YLwcnXfIHwepx8a+ziuSRLVUUloVHVoDjtmZL54c3rl51uoxMU1IjuEFFi7PAAeC7Mp3BTR6/jsLPRCpmu1YkpT25PP/yef/lZH262/50365P/7Of0JrEQ7sfUqc/VeaWBXyoLLXRaSj6cAhavu7+BP/7kkQNgAMRXNRnakAMYwubX+xIAYtxpT3BboOBcTSpOL3QqLGyTmzsmYnqKPUgFqxZhJk6iyvft/SI0BcCoeNP0+v/WL0H2Xn/Uj1+vWsL+ESSf9Ju/+PwtST/zf/9IZ4bKNXzqv/5v6/1RTKhgsTBtcjaVmtNQHcdF4Wuy10WkoahiP64vMBiEWLzkSPnjcunloo9TCRizB7J1Fle/b+oxD0jRkP0+v/WKFB/l5/1I9fr1rCzg7kn/Sbv/j8KGSf+n/+ojiW/1//5v6/1ErCYATXIRkI0d7Co3PkLTkjkpRxyMwvUGHjeCJyh3IHouh2WqHQa0C/sTY7AgVhsav9+//CwOb/odf/GuKM/+/V6ugIDEg/9f/9x5b/Q//pEt/rb/+Wv+r/+otrSEgAj3IRsJWFy+hO1OEsGL7J+kDMZVWoyPWsh04YcR55B0Q1qiGGtAz5mRAIEocer/fv/wsZzf9Dr/1C/EOf/fq9XQEdEg/9f/9x5b/Q//pEt/rb/+Wv+r/+otyUiMAF6cIkE59/W3odB64CZszQwiDzvImHhuxT/+5JEDgAC1GlPc5NUcGFtKh5ntFQMVaU1blD3QYQ0qLnH0dh54pTsPdibwE/6BSepPUPskAQXBcZp/v1f8LBZp+l1/6hFSaX/v/+oGzf9f/5UQ7/6//yMUf6t//Hf+f//UdOCEQAldwRADm4PmLrPG4PXHnmUgccJwWIAsL6cCo20h9rcMV9Dv1D6PrQM60Bnx4AgpBSOaP/fq/4BIjKn6XX/qEVJpf+//6w/5r/r9v86Mm/+v/+Zkt/rb/+SX/T//nS2IgADviA/eGOTOWSu811OUKgowouzxEsMOA9IZhsNVYs6sWsu5z/p7W9b/dxjctR9BkEtO379H/WAITyJ/r6/9QdUNoR/2/19xkSFb+r//UcAC/6df+B4d/q3b/gV/5v/8TkjkyEASKdIBQ/cYpcmsqwteclTEvsYGPpw5mGDAGu5E1rUyjiSo5xHBr9/GzjPzgq3oVoMSnn/v0f+AgLlf9f/6hTRJG/2/19xkSXb+t//zAZb/q//kqWv9bf/yr/0f/51JQQxMABJUAAAwRai511v5C3wL3mGkkeYd5ho//uSRA0AAvppTfC8oPBebSoeL5QeDBmlO9XKAAGHtKl+tzAADMTdyN0jkS+xmwPKpeLKH1DVIGAhIC1oqpN+/f/gGjmlT9XX/yGhQA3+3/5wO8r/U//6QqLf6P/8bp7/t//Il/zn/86VAcgMAFLYEAA8SK4OG48Yk74IZmFkId2bZhYCM7a4/8sdyX2OoZ2qSiJVD6hqkXAQgBacapN+/f/gJFNKn6v/5MhcRv9v/1CJK/1P/+kKpv9H/+P57/t//Il/zn/86aEhkIAMw4ZGpzWO7rdmTS14nOdEwGgDmoKHgu1V57OhcpIjOlccovJTVqZc0yyLnCFIDjRP/79v6jQLAmqB/9+v/qE+t/+v1bpidxgN/V//KZF/+l//I1v+3/8nf+v/+stPbEIAV3IEEUiGFZ9YLkqizrWY9CoiDVIB1SJb4wPZ0KBJEV0kxSRFjKVTzplzTOkXCGQUEb/79v6kAxqa3/fr/5wPdQ/36/VumJ3GB/nPf+sfY57/6X/8jW/7f/y7///9Z5WyAAAXXWpjbWy0NhAEDBDrt8fmfRd9eP/7kkQLgAMCQVNuYoAEYGgq/cpIgIj8SNp89gABTpCcC7DwAOOw6W4EvY6okTMll04kOlUm0cS8PGbMLNFbL+gkiiTylXHJ6JwDEpg5yRizAEByqvpfohzxJN50Majzv/4+T38xb//nT/b/6OWmoAAE/uoI37tmroUBAQBoBMw78owgKxncAKUYlRkdEg5kYkVOJDkqk2jjXGG9FL80Lxqai4klUhyeicAJwW512C/pr6X6IbWJJn50MQjz+vqxISR/ky3//KJW7Vnv8pywAARkilNFZN4QoXJRhDQDk8wYIByHKsHMqkSTlWEoBRFUtLvradrWuLlwSBr8RKeCpYOA0eDSv8S/4lu//BV3+VcDSj34iUHQATuAWcwKyIv8gCdcKBMg2bggZkGW9hDWnWdFUqrG6GpISqW5XTwbesF7FwxK6Li1vnX//zWvxb2t618J9qE+PAqW/xL/iW7lf8FXf64iUe/ESg6qTEFNRTMuMTAwqqqqqqqqqqqqqqqqqqqqqqqqqqqqqqqqqqqqqqqqqqqqqqqqqqqqqqqqqqqqqqo=\" type=\"audio/wav\" />\n",
              "                    Your browser does not support the audio element.\n",
              "                </audio>\n",
              "              </div>"
            ],
            "text/plain": [
              "<colab_a11y_utils.InvisibleAudio object>"
            ]
          },
          "metadata": {
            "tags": []
          }
        },
        {
          "output_type": "display_data",
          "data": {
            "text/html": [
              "<div style=\"display:none\">\n",
              "                <audio onended=\"this.parentNode.removeChild(this)\" controls=\"controls\" autoplay=\"autoplay\">\n",
              "                    <source src=\"data:audio/wav;base64,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\" type=\"audio/wav\" />\n",
              "                    Your browser does not support the audio element.\n",
              "                </audio>\n",
              "              </div>"
            ],
            "text/plain": [
              "<colab_a11y_utils.InvisibleAudio object>"
            ]
          },
          "metadata": {
            "tags": []
          }
        },
        {
          "output_type": "display_data",
          "data": {
            "text/html": [
              "<div style=\"display:none\">\n",
              "                <audio onended=\"this.parentNode.removeChild(this)\" controls=\"controls\" autoplay=\"autoplay\">\n",
              "                    <source src=\"data:audio/wav;base64,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\" type=\"audio/wav\" />\n",
              "                    Your browser does not support the audio element.\n",
              "                </audio>\n",
              "              </div>"
            ],
            "text/plain": [
              "<colab_a11y_utils.InvisibleAudio object>"
            ]
          },
          "metadata": {
            "tags": []
          }
        },
        {
          "output_type": "display_data",
          "data": {
            "text/html": [
              "<div style=\"display:none\">\n",
              "                <audio onended=\"this.parentNode.removeChild(this)\" controls=\"controls\" autoplay=\"autoplay\">\n",
              "                    <source src=\"data:audio/wav;base64,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\" type=\"audio/wav\" />\n",
              "                    Your browser does not support the audio element.\n",
              "                </audio>\n",
              "              </div>"
            ],
            "text/plain": [
              "<colab_a11y_utils.InvisibleAudio object>"
            ]
          },
          "metadata": {
            "tags": []
          }
        },
        {
          "output_type": "stream",
          "text": [
            "\n"
          ],
          "name": "stdout"
        },
        {
          "output_type": "display_data",
          "data": {
            "text/html": [
              "<div style=\"display:none\">\n",
              "                <audio onended=\"this.parentNode.removeChild(this)\" controls=\"controls\" autoplay=\"autoplay\">\n",
              "                    <source src=\"data:audio/wav;base64,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\" type=\"audio/wav\" />\n",
              "                    Your browser does not support the audio element.\n",
              "                </audio>\n",
              "              </div>"
            ],
            "text/plain": [
              "<colab_a11y_utils.InvisibleAudio object>"
            ]
          },
          "metadata": {
            "tags": []
          }
        },
        {
          "output_type": "display_data",
          "data": {
            "text/html": [
              "<div style=\"display:none\">\n",
              "                <audio onended=\"this.parentNode.removeChild(this)\" controls=\"controls\" autoplay=\"autoplay\">\n",
              "                    <source src=\"data:audio/wav;base64,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\" type=\"audio/wav\" />\n",
              "                    Your browser does not support the audio element.\n",
              "                </audio>\n",
              "              </div>"
            ],
            "text/plain": [
              "<colab_a11y_utils.InvisibleAudio object>"
            ]
          },
          "metadata": {
            "tags": []
          }
        }
      ]
    },
    {
      "cell_type": "markdown",
      "metadata": {
        "id": "Mlb1WLUHl-hP"
      },
      "source": [
        "# Disable sound notification when cells are executed."
      ]
    },
    {
      "cell_type": "code",
      "metadata": {
        "colab": {
          "base_uri": "https://localhost:8080/",
          "height": 17
        },
        "id": "CKnobZsMf0ho",
        "outputId": "a9ab7251-1519-4ffe-ae91-f0268d3b4f13"
      },
      "source": [
        "from colab_a11y_utils import unset_sound_notifications\n",
        "unset_sound_notifications()"
      ],
      "execution_count": 6,
      "outputs": [
        {
          "output_type": "display_data",
          "data": {
            "text/html": [
              "<div style=\"display:none\">\n",
              "                <audio onended=\"this.parentNode.removeChild(this)\" controls=\"controls\" autoplay=\"autoplay\">\n",
              "                    <source src=\"data:audio/wav;base64,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\" type=\"audio/wav\" />\n",
              "                    Your browser does not support the audio element.\n",
              "                </audio>\n",
              "              </div>"
            ],
            "text/plain": [
              "<colab_a11y_utils.InvisibleAudio object>"
            ]
          },
          "metadata": {
            "tags": []
          }
        }
      ]
    },
    {
      "cell_type": "code",
      "metadata": {
        "colab": {
          "base_uri": "https://localhost:8080/",
          "height": 168
        },
        "id": "OPtonKJdgkdL",
        "outputId": "cd6ba873-9cb4-4e98-caaa-620015501079"
      },
      "source": [
        "raise"
      ],
      "execution_count": 7,
      "outputs": [
        {
          "output_type": "error",
          "ename": "RuntimeError",
          "evalue": "ignored",
          "traceback": [
            "\u001b[0;31m---------------------------------------------------------------------------\u001b[0m",
            "\u001b[0;31mRuntimeError\u001b[0m                              Traceback (most recent call last)",
            "\u001b[0;32m<ipython-input-7-9c9a2cba73bf>\u001b[0m in \u001b[0;36m<module>\u001b[0;34m()\u001b[0m\n\u001b[0;32m----> 1\u001b[0;31m \u001b[0;32mraise\u001b[0m\u001b[0;34m\u001b[0m\u001b[0;34m\u001b[0m\u001b[0m\n\u001b[0m",
            "\u001b[0;31mRuntimeError\u001b[0m: No active exception to reraise"
          ]
        }
      ]
    },
    {
      "cell_type": "markdown",
      "metadata": {
        "id": "j-FNh9qSzE1N"
      },
      "source": [
        "# Speak"
      ]
    },
    {
      "cell_type": "code",
      "metadata": {
        "colab": {
          "base_uri": "https://localhost:8080/",
          "height": 17
        },
        "id": "vnJFPZrRon10",
        "outputId": "a36f158a-b729-4820-be90-b8e27d326225"
      },
      "source": [
        "from colab_a11y_utils import speak\n",
        "\n",
        "speak(\"Hello\")"
      ],
      "execution_count": 8,
      "outputs": [
        {
          "output_type": "display_data",
          "data": {
            "text/html": [
              "\n",
              "    <script>\n",
              "    window.speechSynthesis.cancel();\n",
              "    let msg = new SpeechSynthesisUtterance(\"Hello\");\n",
              "    msg.lang = \"en-US\";\n",
              "    window.speechSynthesis.speak(msg);\n",
              "    </script>\n",
              "    "
            ],
            "text/plain": [
              "<IPython.core.display.HTML object>"
            ]
          },
          "metadata": {
            "tags": []
          }
        }
      ]
    }
  ]
}