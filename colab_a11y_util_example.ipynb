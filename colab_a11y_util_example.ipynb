{
  "nbformat": 4,
  "nbformat_minor": 0,
  "metadata": {
    "colab": {
      "name": "colab-a11y-util-example.ipynb",
      "provenance": [],
      "collapsed_sections": []
    },
    "kernelspec": {
      "name": "python3",
      "display_name": "Python 3"
    }
  },
  "cells": [
    {
      "cell_type": "markdown",
      "metadata": {
        "id": "JcjOrJxIo5vp"
      },
      "source": [
        "# colab-a11y-util\n",
        "\n",
        "This library provides the following functions in Google Colab\n",
        "- Notification by sound at the time of cell execution\n",
        "  - One beep sound when executed\n",
        "  - Two beep sounds when normal completion\n",
        "  - Two buzzer sounds when abnormal completion\n",
        "- Sound notification of progress bar by tqdm\n",
        "- Simple audio output function that can be used instead of print\n"
      ]
    },
    {
      "cell_type": "markdown",
      "metadata": {
        "id": "FmWA1KWLlOqZ"
      },
      "source": [
        "# Install"
      ]
    },
    {
      "cell_type": "code",
      "metadata": {
        "id": "3dy25kcpfTg5"
      },
      "source": [
        "# stable\n",
        "!pip install colab-a11y-utils\n",
        "\n",
        "# latest\n",
        "#!pip install -U git+https://github.com/hassaku/colab-a11y-utils.git"
      ],
      "execution_count": null,
      "outputs": []
    },
    {
      "cell_type": "markdown",
      "metadata": {
        "id": "1rdqQCaflcRZ"
      },
      "source": [
        "# Enable sound notification when cells are executed"
      ]
    },
    {
      "cell_type": "code",
      "metadata": {
        "id": "QEy93iWDfaAa"
      },
      "source": [
        "from colab_a11y_utils import set_sound_notifications\n",
        "set_sound_notifications()"
      ],
      "execution_count": null,
      "outputs": []
    },
    {
      "cell_type": "code",
      "metadata": {
        "id": "J7FHt20JffsX"
      },
      "source": [
        "import time\n",
        "print(\"start\")\n",
        "time.sleep(3)\n",
        "print(\"finish\")"
      ],
      "execution_count": null,
      "outputs": []
    },
    {
      "cell_type": "code",
      "metadata": {
        "id": "CeXV3crrfnpu"
      },
      "source": [
        "raise"
      ],
      "execution_count": null,
      "outputs": []
    },
    {
      "cell_type": "markdown",
      "metadata": {
        "id": "021Jdm2npMLf"
      },
      "source": [
        "# Enable sound report in progress bar"
      ]
    },
    {
      "cell_type": "code",
      "metadata": {
        "id": "pbflm94fgH_H"
      },
      "source": [
        "from colab_a11y_utils import tqdm\n",
        "\n",
        "for _ in tqdm(range(10)):\n",
        "    time.sleep(1)"
      ],
      "execution_count": null,
      "outputs": []
    },
    {
      "cell_type": "markdown",
      "metadata": {
        "id": "Mlb1WLUHl-hP"
      },
      "source": [
        "# Disable sound notification when cells are executed."
      ]
    },
    {
      "cell_type": "code",
      "metadata": {
        "id": "CKnobZsMf0ho"
      },
      "source": [
        "from colab_a11y_utils import unset_sound_notifications\n",
        "unset_sound_notifications()"
      ],
      "execution_count": null,
      "outputs": []
    },
    {
      "cell_type": "code",
      "metadata": {
        "id": "OPtonKJdgkdL"
      },
      "source": [
        "raise"
      ],
      "execution_count": null,
      "outputs": []
    },
    {
      "cell_type": "markdown",
      "metadata": {
        "id": "j-FNh9qSzE1N"
      },
      "source": [
        "# Speak"
      ]
    },
    {
      "cell_type": "code",
      "metadata": {
        "id": "vnJFPZrRon10"
      },
      "source": [
        "from colab_a11y_utils import speak\n",
        "\n",
        "speak(\"Hello\")"
      ],
      "execution_count": null,
      "outputs": []
    }
  ]
}